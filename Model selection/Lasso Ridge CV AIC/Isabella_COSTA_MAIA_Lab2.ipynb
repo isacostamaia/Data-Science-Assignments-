{
 "cells": [
  {
   "cell_type": "code",
   "execution_count": 1,
   "metadata": {},
   "outputs": [],
   "source": [
    "import numpy as np\n",
    "import matplotlib.pyplot as plt\n",
    "from sklearn.linear_model import LinearRegression\n",
    "from sklearn import linear_model\n",
    "from sklearn.model_selection import cross_val_score"
   ]
  },
  {
   "cell_type": "markdown",
   "metadata": {},
   "source": [
    "## 1. Generate sample"
   ]
  },
  {
   "cell_type": "code",
   "execution_count": 2,
   "metadata": {},
   "outputs": [],
   "source": [
    "p=200\n",
    "def gen_sample(N):\n",
    "    mean = np.zeros(p)\n",
    "    cov = np.identity(p)\n",
    "    X = np.random.multivariate_normal(mean, cov, N)\n",
    "    beta = np.random.uniform(1,2,20)\n",
    "    beta = np.concatenate((beta,np.zeros(p-20)))\n",
    "    noise = np.random.normal(0,0.1,N)\n",
    "    Y = np.matmul(X,beta) + noise\n",
    "    return X,Y,beta"
   ]
  },
  {
   "cell_type": "code",
   "execution_count": 3,
   "metadata": {},
   "outputs": [],
   "source": [
    "#list_x, list_Y will containt generated samples of size 100, 200 and 500\n",
    "def gen_list_samples(list_n_samples):\n",
    "    list_X, list_Y, list_beta = [], [], [] \n",
    "    for i in list_n_samples:\n",
    "        X,Y,B = gen_sample(i)\n",
    "        list_X.append(X) \n",
    "        list_Y.append(Y) \n",
    "        list_beta.append(B)\n",
    "    return list_X,list_Y,list_beta"
   ]
  },
  {
   "cell_type": "code",
   "execution_count": 4,
   "metadata": {},
   "outputs": [],
   "source": [
    "#lasso and ridge will be trained using sample generated from list_X,list_Y and list_true_beta\n",
    "n_samples_lasso_ridge = [100,200,500]\n",
    "list_X, list_Y, list_true_beta = gen_list_samples(n_samples_lasso_ridge)\n",
    "\n",
    "#least squares estimator will be trained using list_X2, list_Y2, list_true_beta2\n",
    "n_samples_lse = [201,500]\n",
    "list_X2, list_Y2, list_true_beta2 = gen_list_samples(n_samples_lse)"
   ]
  },
  {
   "cell_type": "code",
   "execution_count": 5,
   "metadata": {},
   "outputs": [
    {
     "data": {
      "text/plain": [
       "[array([[ 0.2097088 ,  0.26152583,  0.94660041, ...,  0.42796529,\n",
       "         -0.20972138, -0.36374743],\n",
       "        [-0.40805184, -0.70022898, -1.47224305, ...,  1.03667045,\n",
       "         -1.17954852,  0.64944988],\n",
       "        [-1.16973878, -0.55707829,  0.4107229 , ..., -0.98061273,\n",
       "          0.64545129,  0.58927838],\n",
       "        ...,\n",
       "        [-2.19078969,  0.48976131,  0.72928704, ..., -0.85556421,\n",
       "         -1.34430339,  0.31085554],\n",
       "        [-1.18818267, -0.39654489,  0.03420375, ...,  0.9048776 ,\n",
       "         -0.43577079,  0.84637929],\n",
       "        [-0.78010771,  1.01228561, -0.48479665, ...,  2.02630178,\n",
       "          0.1525441 ,  1.83009548]]),\n",
       " array([[ 0.88810852,  0.75834499, -0.15757863, ...,  0.04919731,\n",
       "          1.21554741,  0.9117136 ],\n",
       "        [ 0.21899147,  0.47260246,  1.99018721, ..., -1.29711305,\n",
       "          0.1886019 , -2.25475043],\n",
       "        [-0.18059097,  0.60932163,  1.30768307, ...,  1.49663019,\n",
       "         -2.56382222, -1.15919165],\n",
       "        ...,\n",
       "        [ 1.42976538,  0.61597958, -1.74606345, ...,  0.09530523,\n",
       "         -0.56297139, -1.7693739 ],\n",
       "        [-0.43360187,  0.91129761, -0.20683076, ...,  2.03122476,\n",
       "         -1.21046912,  0.17483397],\n",
       "        [-0.96768951, -0.24561671, -1.62074528, ...,  0.21517795,\n",
       "          1.55920496,  1.04980445]]),\n",
       " array([[ 0.12657206, -0.79433213,  1.97190706, ..., -0.40539222,\n",
       "         -1.63581661,  1.33200983],\n",
       "        [-0.40347702, -0.52576602,  1.1999616 , ..., -0.37485566,\n",
       "          1.36006229,  0.37281248],\n",
       "        [-0.31997011,  0.56761814,  1.13215098, ...,  0.49455541,\n",
       "          2.10713074,  1.41020575],\n",
       "        ...,\n",
       "        [ 0.39382478, -0.45686127,  0.22442458, ..., -0.42498565,\n",
       "         -1.6142567 ,  0.60160252],\n",
       "        [-0.75571364,  0.11881166, -1.42691862, ..., -0.89912427,\n",
       "         -0.5056714 , -0.73677409],\n",
       "        [-1.44296851,  0.3642105 , -0.90750435, ..., -0.03422018,\n",
       "         -0.77091324,  0.05392024]])]"
      ]
     },
     "execution_count": 5,
     "metadata": {},
     "output_type": "execute_result"
    }
   ],
   "source": [
    "list_X"
   ]
  },
  {
   "cell_type": "markdown",
   "metadata": {},
   "source": [
    "A quick look into the generated values"
   ]
  },
  {
   "cell_type": "code",
   "execution_count": 5,
   "metadata": {},
   "outputs": [
    {
     "data": {
      "image/png": "[encoded data removed]",
      "text/plain": [
       "<Figure size 432x288 with 1 Axes>"
      ]
     },
     "metadata": {
      "needs_background": "light"
     },
     "output_type": "display_data"
    },
    {
     "data": {
      "image/png": "[encoded data removed]",
      "text/plain": [
       "<Figure size 432x288 with 1 Axes>"
      ]
     },
     "metadata": {
      "needs_background": "light"
     },
     "output_type": "display_data"
    },
    {
     "data": {
      "image/png": "[encoded data removed]",
      "text/plain": [
       "<Figure size 432x288 with 1 Axes>"
      ]
     },
     "metadata": {
      "needs_background": "light"
     },
     "output_type": "display_data"
    }
   ],
   "source": [
    "for y,n in zip(list_Y,n_samples_lasso_ridge):\n",
    "    plt.figure()\n",
    "    t = \"Y values for n= \"+ str(n)\n",
    "    plt.title(t)\n",
    "    plt.hist(y)"
   ]
  },
  {
   "cell_type": "markdown",
   "metadata": {},
   "source": [
    "## 2. Implement Lasso, Ridge and Least Squares Estimators"
   ]
  },
  {
   "cell_type": "code",
   "execution_count": 6,
   "metadata": {},
   "outputs": [],
   "source": [
    "LSE = lambda X,Y: np.matmul(np.linalg.inv(np.matmul(X.T,X)),np.matmul(X.T,Y))"
   ]
  },
  {
   "cell_type": "code",
   "execution_count": 7,
   "metadata": {},
   "outputs": [],
   "source": [
    "ridgeE = lambda X,Y,lam: np.matmul(np.linalg.inv(np.matmul(X.T,X) + lam*np.identity(p)),np.matmul(X.T,Y))"
   ]
  },
  {
   "cell_type": "code",
   "execution_count": 8,
   "metadata": {},
   "outputs": [],
   "source": [
    "def lassoE(X,Y,lam):\n",
    "    lasso_model  = linear_model.Lasso(alpha=lam)\n",
    "    lasso_model.fit(X,Y)\n",
    "    return lasso_model.coef_"
   ]
  },
  {
   "cell_type": "markdown",
   "metadata": {},
   "source": [
    "## 3. Compute those estimators for different sample sizes"
   ]
  },
  {
   "cell_type": "code",
   "execution_count": 9,
   "metadata": {},
   "outputs": [
    {
     "name": "stdout",
     "output_type": "stream",
     "text": [
      "shape of lassoE_list_diff_lam and ridgeE_list_diff_lam\n",
      "          n=     100,   200,   500\n",
      "lambda =  0.1    (200,)(200,)(200,)\n",
      "lambda =  0.2    (200,)(200,)(200,)\n",
      "lambda =  0.3    (200,)(200,)(200,)\n",
      "lambda =  0.4    (200,)(200,)(200,)\n",
      "lambda =  0.5    (200,)(200,)(200,)\n",
      "lambda =  0.6    (200,)(200,)(200,)\n",
      "lambda =  0.7    (200,)(200,)(200,)\n",
      "lambda =  0.8    (200,)(200,)(200,)\n",
      "lambda =  0.9    (200,)(200,)(200,)\n",
      "lambda =  1.0    (200,)(200,)(200,)\n",
      "\n",
      "shape of lsE_list\n",
      "(200,)(200,)"
     ]
    },
    {
     "data": {
      "text/plain": [
       "[None, None]"
      ]
     },
     "execution_count": 9,
     "metadata": {},
     "output_type": "execute_result"
    }
   ],
   "source": [
    "lassoE_list_diff_lam = []\n",
    "ridgeE_list_diff_lam = []\n",
    "list_lam = np.linspace(0.1,1,10) #we'll test for 10 diff values of lambda between 0.1 and 1 \n",
    "\n",
    "#calculate lasso and ridge estimators for values in n_samples_lasso_ridge = [100,200,500]\n",
    "#each one of those lists will be calculated for a same value of lambda\n",
    "for l in list_lam:\n",
    "    lassoE_list = [lassoE(x,y,l) for x,y in zip(list_X,list_Y)]\n",
    "    lassoE_list_diff_lam.append(lassoE_list)\n",
    "    ridgeE_list = [ridgeE(x,y,l) for x,y in zip(list_X, list_Y)]\n",
    "    ridgeE_list_diff_lam.append(ridgeE_list)\n",
    "\n",
    "#calculate ls estimators for values in n_samples_lse = [201,500]\n",
    "lsE_list = [LSE(x,y) for x,y in zip(list_X2,list_Y2)]\n",
    "\n",
    "#Understanding the dimensions\n",
    "print(\"shape of lassoE_list_diff_lam and ridgeE_list_diff_lam\")\n",
    "print(\"          n=     100,   200,   500\")\n",
    "for list_,lam in zip(lassoE_list_diff_lam,list_lam):\n",
    "    print(\"lambda = \",round(lam,2), \"   \", end='')\n",
    "    [print(i.shape,end=\"\") for i in list_]\n",
    "    print()\n",
    "print()\n",
    "print(\"shape of lsE_list\")\n",
    "[print(i.shape,end='') for i in lsE_list]"
   ]
  },
  {
   "cell_type": "markdown",
   "metadata": {},
   "source": [
    "Let's analyse how many null values we get from each one of the estimators computed above:"
   ]
  },
  {
   "cell_type": "code",
   "execution_count": 10,
   "metadata": {},
   "outputs": [
    {
     "name": "stdout",
     "output_type": "stream",
     "text": [
      "Number of zero parameter values found by Lasso estimator:\n",
      "        n=     100,   200,   500\n",
      "lambda =  0.1   173   179   180   \n",
      "lambda =  0.2   174   179   180   \n",
      "lambda =  0.3   174   179   180   \n",
      "lambda =  0.4   174   179   180   \n",
      "lambda =  0.5   175   179   180   \n",
      "lambda =  0.6   177   179   180   \n",
      "lambda =  0.7   179   180   180   \n",
      "lambda =  0.8   181   181   180   \n",
      "lambda =  0.9   183   185   180   \n",
      "lambda =  1.0   184   187   182   \n",
      "\n",
      "Number of zero parameter values found by Ridge estimator:\n",
      "        n=     100,   200,   500\n",
      "lambda =  0.1   0   0   0   \n",
      "lambda =  0.2   0   0   0   \n",
      "lambda =  0.3   0   0   0   \n",
      "lambda =  0.4   0   0   0   \n",
      "lambda =  0.5   0   0   0   \n",
      "lambda =  0.6   0   0   0   \n",
      "lambda =  0.7   0   0   0   \n",
      "lambda =  0.8   0   0   0   \n",
      "lambda =  0.9   0   0   0   \n",
      "lambda =  1.0   0   0   0   \n",
      "\n",
      "\n",
      "Number of zero parameter values found by LS estimator:\n",
      "n=  201,   500\n",
      "      0   0   "
     ]
    },
    {
     "data": {
      "text/plain": [
       "[None, None]"
      ]
     },
     "execution_count": 10,
     "metadata": {},
     "output_type": "execute_result"
    }
   ],
   "source": [
    "#Number of zero values in lasso and ridge:\n",
    "nb_zero_val_tot_lasso = []\n",
    "nb_zero_val_tot_ridge = []\n",
    "for i,k in zip(lassoE_list_diff_lam,ridgeE_list_diff_lam):\n",
    "    nb_zero_val = [len(np.where(j  == 0)[0]) for j in i]\n",
    "    nb_zero_val_tot_lasso.append(nb_zero_val)\n",
    "    \n",
    "    nb_zero_val2 = [len(np.where(j  == 0)[0]) for j in k]\n",
    "    nb_zero_val_tot_ridge.append(nb_zero_val2)\n",
    "\n",
    "print(\"Number of zero parameter values found by Lasso estimator:\")\n",
    "print(\"        n=     100,   200,   500\")\n",
    "for i,lam in zip(nb_zero_val_tot_lasso,list_lam):\n",
    "    print(\"lambda = \", round(lam,1), \"  \", end='')\n",
    "    [print(j, \"  \", end='') for j in i]\n",
    "    print()\n",
    "\n",
    "print()    \n",
    "\n",
    "print(\"Number of zero parameter values found by Ridge estimator:\")\n",
    "print(\"        n=     100,   200,   500\")\n",
    "for i,lam in zip(nb_zero_val_tot_ridge,list_lam):\n",
    "    print(\"lambda = \", round(lam,1), \"  \", end='')\n",
    "    [print(j, \"  \", end='') for j in i]\n",
    "    print()\n",
    "    \n",
    "#Number of zero values in LSE:\n",
    "nb_zero_val_lse = [len(np.where(j  == 0)[0]) for j in lsE_list]\n",
    "\n",
    "print(\"\\n\\nNumber of zero parameter values found by LS estimator:\")\n",
    "print(\"n=  201,   500\")\n",
    "print(\"      \",end='')\n",
    "[print(j, \"  \", end='') for j in nb_zero_val_lse]"
   ]
  },
  {
   "cell_type": "markdown",
   "metadata": {},
   "source": [
    "Here we se that the number of zero values in Lasso estimator is aproximetly 180, which is coherent with the sparse true estimator used for generating the samples. On the other hand, for least squares and ridge there is no zero coefficient, what makes sense since they are not sparse estimators."
   ]
  },
  {
   "cell_type": "markdown",
   "metadata": {},
   "source": [
    "How to assess the quality of those estimators? Maybe we can compare the error between the true values of $\\beta$ and the ones obtained by each one of the estimators.\\\n",
    "The true values of $\\beta$ for the lasso and ridge estimators are contained in the $list\\_true\\_beta$ while the true values for the LSE are contained in $list\\_true\\_beta2$. \\\n",
    "For each estimator and for one of the different samples sizes we will compute the distance $||\\beta_{true}-\\beta_{est}||^2$"
   ]
  },
  {
   "cell_type": "code",
   "execution_count": 11,
   "metadata": {},
   "outputs": [
    {
     "name": "stdout",
     "output_type": "stream",
     "text": [
      "|beta-beta_pred|^2 error\n",
      "\n",
      "Lasso error\n",
      "                  n=100,    n=200,     n=500\n",
      "lambda =  0.1    0.002900   0.002000   0.001200   \n",
      "lambda =  0.2    0.011600   0.008000   0.004600   \n",
      "lambda =  0.3    0.026100   0.017900   0.010300   \n",
      "lambda =  0.4    0.046500   0.031800   0.018300   \n",
      "lambda =  0.5    0.071800   0.049700   0.028600   \n",
      "lambda =  0.6    0.092000   0.071500   0.041100   \n",
      "lambda =  0.7    0.107200   0.095700   0.055900   \n",
      "lambda =  0.8    0.124100   0.121300   0.073000   \n",
      "lambda =  0.9    0.140900   0.140900   0.092300   \n",
      "lambda =  1.0    0.154700   0.158500   0.110900   \n",
      "\n",
      "Ridge error\n",
      "                  n=100,     n=200,      n=500\n",
      "lambda =  0.1    0.116600   0.005400   0.000000   \n",
      "lambda =  0.2    0.116600   0.007500   0.000000   \n",
      "lambda =  0.3    0.116700   0.008900   0.000000   \n",
      "lambda =  0.4    0.116700   0.010100   0.000000   \n",
      "lambda =  0.5    0.116700   0.011000   0.000000   \n",
      "lambda =  0.6    0.116700   0.011800   0.000000   \n",
      "lambda =  0.7    0.116700   0.012500   0.000000   \n",
      "lambda =  0.8    0.116700   0.013200   0.000000   \n",
      "lambda =  0.9    0.116700   0.013800   0.000000   \n",
      "lambda =  1.0    0.116700   0.014300   0.000000   \n",
      "\n",
      "LS error\n",
      "n=201    n= 500\n",
      "0.0052      0.0      "
     ]
    },
    {
     "data": {
      "text/plain": [
       "[None, None]"
      ]
     },
     "execution_count": 11,
     "metadata": {},
     "output_type": "execute_result"
    }
   ],
   "source": [
    "#lasso error for samples of size 100, 200 and 500, calculated for different values of lambda\n",
    "lasso_err_list_diff_lam = []\n",
    "for lassoE_list_cte_lam in lassoE_list_diff_lam:\n",
    "    lasso_err_list = [np.dot(beta_true-beta_est, beta_true-beta_est)/len(beta_true) for beta_true,beta_est in zip(list_true_beta,lassoE_list_cte_lam) ]\n",
    "    lasso_err_list_diff_lam.append(lasso_err_list)\n",
    "\n",
    "\n",
    "#ridge error for samples of size 100, 200 and 500, calculated for different values of lambda\n",
    "ridge_err_list_diff_lam = []\n",
    "for ridgeE_list_cte_lam in ridgeE_list_diff_lam:\n",
    "    ridge_err_list = [np.dot(beta_true-beta_est, beta_true-beta_est)/len(beta_true) for beta_true,beta_est in zip(list_true_beta,ridgeE_list_cte_lam) ]\n",
    "    ridge_err_list_diff_lam.append(ridge_err_list)\n",
    "\n",
    "\n",
    "#ls error for samples of size 201 and 500\n",
    "lse_err_list = [np.dot(beta_true-beta_est, beta_true-beta_est)/len(beta_true) for beta_true,beta_est in zip(list_true_beta2,lsE_list) ]\n",
    "\n",
    "\n",
    "\n",
    "\n",
    "#Understanding the matrices\n",
    "print(\"|beta-beta_pred|^2 error\\n\")\n",
    "print(\"Lasso error\")\n",
    "print(\"                  n=100,    n=200,     n=500\")\n",
    "for list_,lam in zip(lasso_err_list_diff_lam,list_lam):\n",
    "    print(\"lambda = \",round(lam,2), \"   \", end='')\n",
    "    [print(\"%02f\" % round(i,4),\"  \",end='') for i in list_]\n",
    "    print()\n",
    "print()\n",
    "\n",
    "\n",
    "print(\"Ridge error\")\n",
    "print(\"                  n=100,     n=200,      n=500\")\n",
    "for list_,lam in zip(ridge_err_list_diff_lam,list_lam):\n",
    "    print(\"lambda = \",round(lam,2), \"   \", end='')\n",
    "    [print(\"%02f\" % round(i,4),\"  \",end='') for i in list_]\n",
    "    print()\n",
    "print()\n",
    "\n",
    "print(\"LS error\")\n",
    "print(\"n=201    n= 500\")\n",
    "[print(round(i,4), \"     \",end='') for i in lse_err_list]\n",
    "\n"
   ]
  },
  {
   "cell_type": "markdown",
   "metadata": {},
   "source": [
    "By the above we may conclude that while the lasso estimator seems to have errors of the same order of magnitude within a constant value of lambda, the ridge estimator's error assumes a nearly constant behavior within the sample size.\\\n",
    "Furthermore we can see that the ridge estimator has poor performance when the sample size is small (less than the size of the sample) and really good performance for bigger sample's size. \\\n",
    "We can also see that the parameter's error obtained by the least square estimator is about the same order of magnitude of ridge estimator for no shrinkage (lambda=1) when comparing the same size samples.\\\n",
    "We also see that the lowests errors are obtained for large samples with leasts squares and ridge estimators."
   ]
  },
  {
   "cell_type": "markdown",
   "metadata": {},
   "source": [
    "## 3. Generate new sample with n=1000 and calculate empirical risk"
   ]
  },
  {
   "cell_type": "markdown",
   "metadata": {},
   "source": [
    "#### Compute prediction using the parameters found by each one of the estimators using different sample sizes (and for lasso and ridge using different values of lambda)."
   ]
  },
  {
   "cell_type": "code",
   "execution_count": 12,
   "metadata": {},
   "outputs": [],
   "source": [
    "X,Y_true,beta_true = gen_sample(1000)\n",
    "\n",
    "# y is given simply by Y=X*beta.\n",
    "\n",
    "#we compute each column of Y considering differents values of beta (obtained for a diff lambda) \n",
    "#              within a constant same sample size. \n",
    "\n",
    "#lasso\n",
    "Y_pred_lasso_diff_lam = []\n",
    "for beta_cte_lam in lassoE_list_diff_lam:\n",
    "    Y_pred_cte_lam = [np.matmul(X,beta) for beta in beta_cte_lam ]\n",
    "    Y_pred_lasso_diff_lam.append(Y_pred_cte_lam)\n",
    "\n",
    "\n",
    "#ridge\n",
    "Y_pred_ridge_diff_lam = []\n",
    "for beta_cte_lam in ridgeE_list_diff_lam:\n",
    "    Y_pred_cte_lam = [np.matmul(X,beta) for beta in beta_cte_lam ]\n",
    "    Y_pred_ridge_diff_lam.append(Y_pred_cte_lam)\n",
    "\n",
    "#least squares\n",
    "Y_pred_lse = [np.matmul(X,beta) for beta in lsE_list]\n"
   ]
  },
  {
   "cell_type": "markdown",
   "metadata": {},
   "source": [
    "### Calculate empirical risk wrt mean square loss"
   ]
  },
  {
   "cell_type": "code",
   "execution_count": 13,
   "metadata": {
    "scrolled": true
   },
   "outputs": [],
   "source": [
    "#lasso MSE\n",
    "pred_err_lasso_diff_lam = []\n",
    "for y_cte_lam in Y_pred_lasso_diff_lam:\n",
    "    pred_err_cte_lam = [np.dot(Y_true-y_pred,Y_true-y_pred)/len(Y_true) for y_pred in y_cte_lam]\n",
    "    pred_err_lasso_diff_lam.append(pred_err_cte_lam)\n",
    "\n",
    "#ridge MSE\n",
    "pred_err_ridge_diff_lam = []\n",
    "for y_cte_lam in Y_pred_ridge_diff_lam:\n",
    "    pred_err_cte_lam = [np.dot(Y_true-y_pred,Y_true-y_pred)/len(Y_true) for y_pred in y_cte_lam]\n",
    "    pred_err_ridge_diff_lam.append(pred_err_cte_lam)\n",
    "\n",
    "#LS MSE\n",
    "pred_err_lse = [np.dot(Y_true-y_pred,Y_true-y_pred)/len(Y_true) for y_pred in Y_pred_lse]"
   ]
  },
  {
   "cell_type": "markdown",
   "metadata": {},
   "source": [
    "Let's now visualize those errors:"
   ]
  },
  {
   "cell_type": "code",
   "execution_count": 15,
   "metadata": {},
   "outputs": [],
   "source": [
    "#Visualization:\n",
    "\n",
    "#get coordinates:\n",
    "nsamples_coor = np.repeat([[100,200,500]],10,axis=0).ravel() \n",
    "lam_coor = np.repeat([list_lam],[3])\n",
    "\n",
    "pred_coor_lasso = np.array(pred_err_lasso_diff_lam).ravel()\n",
    "pred_coor_ridge = np.array(pred_err_ridge_diff_lam).ravel()"
   ]
  },
  {
   "cell_type": "code",
   "execution_count": 16,
   "metadata": {},
   "outputs": [
    {
     "data": {
      "text/plain": [
       "<matplotlib.legend.Legend at 0x7ff317d316a0>"
      ]
     },
     "execution_count": 16,
     "metadata": {},
     "output_type": "execute_result"
    },
    {
     "data": {
      "image/png": "[encoded data removed]",
      "text/plain": [
       "<Figure size 936x720 with 3 Axes>"
      ]
     },
     "metadata": {
      "needs_background": "light"
     },
     "output_type": "display_data"
    }
   ],
   "source": [
    "#figure\n",
    "fig, ax1 = plt.subplots()\n",
    "fig.set_size_inches(13, 10)\n",
    "\n",
    "#labels\n",
    "ax1.set_xlabel('number of samples')\n",
    "ax1.set_ylabel('Prediction error')\n",
    "ax1.set_title('Prediction error for Lasso, Ridge and Least Square estimators')\n",
    "\n",
    "#c sequence\n",
    "# c = wine_df['Color intensity']\n",
    "c= lam_coor\n",
    "\n",
    "#plot\n",
    "plt.scatter( nsamples_coor, pred_coor_lasso , c=c, \n",
    "            cmap = 'RdPu', alpha =0.8)\n",
    "cbar = plt.colorbar()\n",
    "cbar.set_label('Lambda Parameter for Lasso')\n",
    "plt.scatter( nsamples_coor, pred_coor_ridge , c=c, \n",
    "            cmap = 'Greens', alpha =0.8)\n",
    "cbar = plt.colorbar()\n",
    "cbar.set_label('Lambda Parameter for Ridge')\n",
    "ls_plot = plt.scatter([201,500], pred_err_lse)\n",
    "plt.legend([ls_plot], [\"lse\"])"
   ]
  },
  {
   "cell_type": "markdown",
   "metadata": {},
   "source": [
    "By the above we may conclude that the lasso prediction error presents high variability within a same size of sample when considering different values of lambda. We also can notice a clear tendency of highest values of error for highest values of lambda (this meaning that \"over shrinking\" the set of variables makes the risk increases).\\\n",
    "For the ridge prediction error we can observe that it presents nearly no variability for different values of lambda, but instead it varies within the size of samples, assuming a decreasing behavior in when the size samples increase.\\\n",
    "For the LSE we see that the error is more or less constant for the different sizes of samples computed."
   ]
  },
  {
   "cell_type": "markdown",
   "metadata": {},
   "source": [
    "### 5. Select a model using CV and AIC for Lasso and Ridge"
   ]
  },
  {
   "cell_type": "code",
   "execution_count": 17,
   "metadata": {},
   "outputs": [],
   "source": [
    "from sklearn.linear_model import LassoCV, LassoLarsCV, LassoLarsIC, Ridge, RidgeCV\n",
    "\n",
    "EPSILON = 1e-4 # This is to avoid division by zero while doing np.log10\n",
    "\n",
    "def plot_ic_criterion(model, name, color):\n",
    "    criterion_ = model.criterion_\n",
    "    plt.semilogx(model.alphas_ + EPSILON, criterion_, '--', color=color,\n",
    "                 linewidth=3, label='%s criterion' % name)\n",
    "    plt.axvline(model.alpha_ + EPSILON, color=color, linewidth=3,\n",
    "                label='lambda: %s estimate' % name)\n",
    "    plt.xlabel(r'$\\lambda$')\n",
    "    plt.ylabel('criterion')\n"
   ]
  },
  {
   "cell_type": "code",
   "execution_count": 18,
   "metadata": {},
   "outputs": [
    {
     "name": "stdout",
     "output_type": "stream",
     "text": [
      "Lambda choosen by AIC for Lasso:  0.00035993801369900246\n"
     ]
    },
    {
     "data": {
      "image/png": "[encoded data removed]",
      "text/plain": [
       "<Figure size 432x288 with 1 Axes>"
      ]
     },
     "metadata": {
      "needs_background": "light"
     },
     "output_type": "display_data"
    }
   ],
   "source": [
    "# normalize data as done by Lars to allow for comparison\n",
    "X /= np.sqrt(np.sum(X ** 2, axis=0))\n",
    "\n",
    "\n",
    "# LassoLarsIC: least angle regression with AIC criterion\n",
    "model_aic = LassoLarsIC(criterion='aic')\n",
    "model_aic.fit(X, Y_true)\n",
    "alpha_aic_ = model_aic.alpha_\n",
    "\n",
    "plt.figure()\n",
    "plot_ic_criterion(model_aic, 'AIC', 'b')\n",
    "plt.legend()\n",
    "plt.title('Information-criterion for model selection in Lasso')\n",
    "\n",
    "print(\"Lambda choosen by AIC for Lasso: \", model_aic.alpha_)"
   ]
  },
  {
   "cell_type": "markdown",
   "metadata": {},
   "source": [
    "Here we can see the choice of the AIC criterion of $\\lambda \\approx 0.00036$ which corresponds to a nearly complete solution (having in mind that for $\\lambda = 0$ we should have the leasts square solution). By the prevoius prediction error graph we can see that indeed the predicton error for the lasso is lower for lower vales of $\\lambda$. However that confirms the tendency of the AIC in choosing too complex models, since it doesn't penalizes the dimension of the model as much as it penalizes the bias."
   ]
  },
  {
   "cell_type": "code",
   "execution_count": 19,
   "metadata": {},
   "outputs": [
    {
     "name": "stdout",
     "output_type": "stream",
     "text": [
      "Computing regularization path using the Lars lasso...\n"
     ]
    },
    {
     "data": {
      "image/png": "[encoded data removed]",
      "text/plain": [
       "<Figure size 432x288 with 1 Axes>"
      ]
     },
     "metadata": {
      "needs_background": "light"
     },
     "output_type": "display_data"
    },
    {
     "name": "stdout",
     "output_type": "stream",
     "text": [
      "Lambda choosen by CV for Lasso:  0.000150664101565865\n"
     ]
    }
   ],
   "source": [
    "# LassoLarsCV: least angle regression\n",
    "\n",
    "# Compute paths\n",
    "print(\"Computing regularization path using the Lars lasso...\")\n",
    "# t1 = time.time()\n",
    "model = LassoLarsCV(cv=20).fit(X, Y_true)\n",
    "# t_lasso_lars_cv = time.time() - t1\n",
    "\n",
    "# Display results\n",
    "plt.figure()\n",
    "plt.semilogx(model.cv_alphas_ + EPSILON, model.mse_path_, ':')\n",
    "plt.semilogx(model.cv_alphas_ + EPSILON, model.mse_path_.mean(axis=-1), 'k',\n",
    "             label='Average across the folds', linewidth=2)\n",
    "plt.axvline(model.alpha_, linestyle='--', color='k',\n",
    "            label='alpha CV')\n",
    "plt.legend()\n",
    "\n",
    "plt.xlabel(r'$\\lambda$')\n",
    "plt.ylabel('Mean square error')\n",
    "plt.title('Mean square error on each fold: Lars')\n",
    "plt.axis('tight')\n",
    "plt.xlim(0.0001, 1)\n",
    "\n",
    "plt.show()\n",
    "print(\"Lambda choosen by CV for Lasso: \", model.alpha_)\n",
    "best_lam_lasso=model.alpha_"
   ]
  },
  {
   "cell_type": "markdown",
   "metadata": {},
   "source": [
    "We can see that the shrinkage is indeed weaker than the one proposed by AIC, which results in a less complex model when compared to the one selected by AIC."
   ]
  },
  {
   "cell_type": "markdown",
   "metadata": {},
   "source": [
    "As I could not find a good library to selec the hyperparameter for Ridge as the above for Lasso, I'll do a different method for its cross validation, considering 20 folds repeating this whole process for different values of $\\lambda$ and getting the average score at the end. The model with highest average score will be the selected one."
   ]
  },
  {
   "cell_type": "code",
   "execution_count": 20,
   "metadata": {},
   "outputs": [],
   "source": [
    "lam_list = np.linspace(0.01,20,100)\n",
    "scores=[]\n",
    "for l in lam_list:\n",
    "    model = Ridge(alpha=lam)\n",
    "    scores_ridge = cross_val_score(model, X, Y_true, scoring='neg_mean_squared_error', cv=20)\n",
    "    scores.append(scores_ridge)"
   ]
  },
  {
   "cell_type": "code",
   "execution_count": 24,
   "metadata": {},
   "outputs": [
    {
     "name": "stdout",
     "output_type": "stream",
     "text": [
      "The highest score for Ridge CV was obtained for lambda =  0.01\n"
     ]
    }
   ],
   "source": [
    "mean_scores_ridge = [np.mean(i) for i in scores]\n",
    "best_lam_ridge = lam_list[mean_scores_ridge.index(max(mean_scores_ridge))]\n",
    "print(\"The highest score for Ridge CV was obtained for lambda = \", best_lam_ridge )"
   ]
  },
  {
   "cell_type": "markdown",
   "metadata": {},
   "source": [
    "Now we can compute again the models for each one of the values of the parameters used in order to compute the MSE again:"
   ]
  },
  {
   "cell_type": "markdown",
   "metadata": {},
   "source": [
    "Let's generate new training samples of size [100,200,500],test sample of size 1000 and assess its prediction error (mean squared error):"
   ]
  },
  {
   "cell_type": "code",
   "execution_count": 22,
   "metadata": {},
   "outputs": [
    {
     "name": "stdout",
     "output_type": "stream",
     "text": [
      "Lasso error\n",
      "n =  100    4.456140983829542\n",
      "n =  200    3.617951184294756\n",
      "n =  500    3.902259869452561\n",
      "Ridge error\n",
      "n =  100    23.467647722251225\n",
      "n =  200    4.788513440236355\n",
      "n =  500    3.903366393963237\n",
      "LSE error\n",
      "n =  201    4.195303047653955\n",
      "n =  500    3.0346890036417635\n"
     ]
    },
    {
     "data": {
      "text/plain": [
       "[None, None]"
      ]
     },
     "execution_count": 22,
     "metadata": {},
     "output_type": "execute_result"
    }
   ],
   "source": [
    "from sklearn.metrics import mean_squared_error\n",
    "\n",
    "X_test,Y_test,beta2 = gen_sample(1000)\n",
    "\n",
    "mse_lasso_n=[]\n",
    "mse_ridge_n=[]\n",
    "for n in n_samples_lasso_ridge:\n",
    "    X_train,Y_train,beta=gen_sample(n)\n",
    "\n",
    "    #fitting the model\n",
    "    beta_lasso=lassoE(X_train,Y_train,best_lam_lasso)\n",
    "    beta_ridge=ridgeE(X_train,Y_train,best_lam_ridge)\n",
    "\n",
    "    #predictions\n",
    "    y_pred_lasso = np.matmul(X_test,beta_lasso)\n",
    "    y_pred_ridge = np.matmul(X_test,beta_ridge)\n",
    "\n",
    "    mse_lasso = mean_squared_error(Y_test, y_pred_lasso)\n",
    "    mse_ridge = mean_squared_error(Y_test, y_pred_ridge)\n",
    "    \n",
    "    mse_lasso_n.append(mse_lasso)\n",
    "    mse_ridge_n.append(mse_ridge)\n",
    "\n",
    "print(\"Lasso error\")\n",
    "[print(\"n = \",n,\"  \",i) for i,n in zip(mse_lasso_n,n_samples_lasso_ridge)]\n",
    "print(\"Ridge error\")\n",
    "[print(\"n = \",n,\"  \",i) for i,n in zip(mse_ridge_n,n_samples_lasso_ridge)]\n",
    "print(\"LSE error\")\n",
    "[print(\"n = \",n,\"  \",i) for i,n in zip(pred_err_lse,n_samples_lse)]"
   ]
  },
  {
   "cell_type": "markdown",
   "metadata": {},
   "source": [
    "We can say that the least square is the estimator that has more constant behavior. Ridge estimator shows fast error decreasing within the samples size.\n",
    "\\\n",
    "If we had small sample sizes probably ridge would not be a good estimator, while LSE seems to present less variance with respect to the amount of data.\n",
    "\n",
    "For small samples (N<p) I would choose LSE, and for biggest sample sizes the choise between Lasso and Ridge is still not clear."
   ]
  },
  {
   "cell_type": "markdown",
   "metadata": {},
   "source": [
    "### Boxplots"
   ]
  },
  {
   "cell_type": "markdown",
   "metadata": {},
   "source": [
    "We can now estimate the each collection of model behaves within a same size dataset."
   ]
  },
  {
   "cell_type": "code",
   "execution_count": 23,
   "metadata": {},
   "outputs": [
    {
     "data": {
      "text/plain": [
       "Text(0.5, 0, 'number of samples')"
      ]
     },
     "execution_count": 23,
     "metadata": {},
     "output_type": "execute_result"
    },
    {
     "data": {
      "image/png": "[encoded data removed]",
      "text/plain": [
       "<Figure size 432x288 with 1 Axes>"
      ]
     },
     "metadata": {
      "needs_background": "light"
     },
     "output_type": "display_data"
    },
    {
     "data": {
      "image/png": "[encoded data removed]",
      "text/plain": [
       "<Figure size 432x288 with 1 Axes>"
      ]
     },
     "metadata": {
      "needs_background": "light"
     },
     "output_type": "display_data"
    }
   ],
   "source": [
    "lasso_box = [np.array(lasso_err_list_diff_lam).T[i] for i in range(0,3)]\n",
    "plt.boxplot(lasso_box, labels=[str(r) for r in n_samples_lasso_ridge], showmeans=True)\n",
    "plt.title(r\"$|\\beta-\\beta_{true}|^{2}$ values for Lasso collection\")\n",
    "plt.xlabel(\"number of samples\")\n",
    "plt.figure()\n",
    "ridge_box = [np.array(ridge_err_list_diff_lam).T[i] for i in range(0,3)]\n",
    "plt.boxplot(ridge_box, labels=[str(r) for r in n_samples_lasso_ridge], showmeans=True)\n",
    "plt.title(r\"$|\\beta-\\beta_{true}|^{2}$ values for Ridge collection\")\n",
    "plt.xlabel(\"number of samples\")"
   ]
  },
  {
   "cell_type": "markdown",
   "metadata": {},
   "source": [
    "By the above we may conclude the following:\\\n",
    "Lasso estimator seems to assume, in average, a nearly steady error within different samples sizes (used to obtain the estimated betas). On the other hand, when comparing the models from a same collection (trained within the same sample size, but admitting different values of $lambda$), the lasso error presents high variance. \\\n",
    "Ridge, by contrast, seems to show almost no variance between the models of a same-sized sample, but it does demonstrate high variance with respect to different sample sizes used to train the collection of models.\n",
    "We may state that Lasso seems to be much more sensible to the choice of the $\\lambda$ parameter, while Ridge seems to be much more sensible to the sample size used to fit those.\n"
   ]
  },
  {
   "cell_type": "code",
   "execution_count": null,
   "metadata": {},
   "outputs": [],
   "source": []
  }
 ],
 "metadata": {
  "kernelspec": {
   "display_name": "Python 3",
   "language": "python",
   "name": "python3"
  },
  "language_info": {
   "codemirror_mode": {
    "name": "ipython",
    "version": 3
   },
   "file_extension": ".py",
   "mimetype": "text/x-python",
   "name": "python",
   "nbconvert_exporter": "python",
   "pygments_lexer": "ipython3",
   "version": "3.8.2"
  }
 },
 "nbformat": 4,
 "nbformat_minor": 4
}
