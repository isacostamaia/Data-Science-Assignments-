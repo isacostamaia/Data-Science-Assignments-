{
 "cells": [
  {
   "cell_type": "markdown",
   "metadata": {},
   "source": [
    "## Retrieve the dataset online or locally\n",
    "Ref: Center for systems science and engineering (CSSE) at Johns Hopkins University (JHU) time series data set for COVID-19 cases. 2020; (Online) Available at: [https://github.com/CSSEGISandData/COVID-19/tree/master/csse_covid_19_data/csse_covid_19_time_series]"
   ]
  },
  {
   "cell_type": "code",
   "execution_count": 1,
   "metadata": {},
   "outputs": [],
   "source": [
    "import os\n",
    "import numpy as np\n",
    "from six.moves import urllib\n",
    "import pandas as pd\n",
    "\n",
    "DOWNLOAD_ROOT = \"https://raw.githubusercontent.com/CSSEGISandData/COVID-19/master/csse_covid_19_data/csse_covid_19_time_series/\"\n",
    "DATA_PATH = \"data_covid\"\n",
    "TABLE = [\"time_series_covid19_confirmed_global.csv\", \"time_series_covid19_deaths_global.csv\", \"time_series_covid19_recovered_global.csv \"]\n",
    "\n",
    "\n",
    "#Download the .csv's locally\n",
    "def fetch_data(download_root = DOWNLOAD_ROOT, data_path = DATA_PATH, table=TABLE[0]):\n",
    "    data_url = download_root + table\n",
    "    if not os.path.isdir(data_path):\n",
    "        os.makedirs(data_path)\n",
    "        \n",
    "    name = table.split(\".\")[0]\n",
    "    csv_path = os.path.join(data_path, (name+\".csv\"))\n",
    "    urllib.request.urlretrieve(data_url, csv_path)\n",
    "    \n",
    "#just load the locals .csv's and if they're not in the specified directory, gets from url source\n",
    "def load_housing_data(data_path=DATA_PATH, download_root = DOWNLOAD_ROOT, table=TABLE[0]):\n",
    "    name = table.split(\".\")[0]\n",
    "    csv_path = os.path.join(data_path, (name+\".csv\"))\n",
    "    \n",
    "    if not os.path.exists(csv_path):\n",
    "        print(\"getting \"+ table + \" from url source...\")\n",
    "        csv_url = os.path.join(download_root, table)\n",
    "        return pd.read_csv(csv_url)\n",
    "    return pd.read_csv(csv_path)\n",
    "\n",
    "def df_country(country,df,lim_date=None):\n",
    "    if (lim_date is not None): #if the user inputs a limit date\n",
    "        df = df.loc[:,:lim_date]\n",
    "    df_country = df.loc[df[\"Country/Region\"]==country]\n",
    "    if len(df_country.index)>1: #if country has different domains, take the \"main\" one\n",
    "        df_country = df_country[df_country[\"Province/State\"].isnull()]\n",
    "#     print(df.columns)\n",
    "    df_country = (df_country.to_numpy())[0][4:] #transforms into array\n",
    "    return df_country\n",
    "\n",
    "def retrieve_cdr(country,lim_date=None): #confirmed, death, recovered retrieve c,d,r as arrays\n",
    "    c,d,r =  [load_housing_data(table=i) for i in TABLE]\n",
    "    \n",
    "    return df_country(country,c,lim_date),df_country(country,d,lim_date),df_country(country,r,lim_date)\n",
    "\n",
    "        "
   ]
  },
  {
   "cell_type": "code",
   "execution_count": 2,
   "metadata": {},
   "outputs": [],
   "source": [
    "#Run if you want to download the data sets\n",
    "# [fetch_data(table=i) for i in TABLE]"
   ]
  },
  {
   "cell_type": "markdown",
   "metadata": {},
   "source": [
    "## Exploration of data-set"
   ]
  },
  {
   "cell_type": "code",
   "execution_count": 3,
   "metadata": {},
   "outputs": [
    {
     "data": {
      "text/plain": [
       "0             Afghanistan\n",
       "1                 Albania\n",
       "2                 Algeria\n",
       "3                 Andorra\n",
       "4                  Angola\n",
       "              ...        \n",
       "264    West Bank and Gaza\n",
       "265        Western Sahara\n",
       "266                 Yemen\n",
       "267                Zambia\n",
       "268              Zimbabwe\n",
       "Name: Country/Region, Length: 269, dtype: object"
      ]
     },
     "execution_count": 3,
     "metadata": {},
     "output_type": "execute_result"
    }
   ],
   "source": [
    "#countries\n",
    "df = load_housing_data()\n",
    "df[\"Country/Region\"]"
   ]
  },
  {
   "cell_type": "code",
   "execution_count": 4,
   "metadata": {},
   "outputs": [
    {
     "name": "stdout",
     "output_type": "stream",
     "text": [
      "first data from  1/22/20\n",
      "last data from  11/18/20\n"
     ]
    }
   ],
   "source": [
    "#dates\n",
    "dates = df.columns[4:]\n",
    "print(\"first data from \", dates[0])\n",
    "print(\"last data from \", dates[-1])"
   ]
  },
  {
   "cell_type": "code",
   "execution_count": 5,
   "metadata": {},
   "outputs": [
    {
     "name": "stdout",
     "output_type": "stream",
     "text": [
      "number of points considered:  302\n"
     ]
    }
   ],
   "source": [
    "#size of data-set\n",
    "print(\"number of points considered: \", len(dates))"
   ]
  },
  {
   "cell_type": "markdown",
   "metadata": {},
   "source": [
    "## Mathematical Justification"
   ]
  },
  {
   "cell_type": "markdown",
   "metadata": {},
   "source": [
    "When there is no infection $S \\approx N$ and I + R = 0\\\n",
    "$\\frac{dI}{dt} = \\beta SI - \\nu I$ then becomes\\\n",
    "$\\frac{dI}{dt} \\sim I(\\beta - \\nu)$\\\n",
    "integrating it we have\\\n",
    "$I(t) = I_{0}e^{(\\beta-\\nu)t}$"
   ]
  },
  {
   "cell_type": "markdown",
   "metadata": {},
   "source": [
    "Since $\\frac{dR}{dt} =  \\nu I$ we can estimate $\\nu$ using the mean of its \"instant values\" found by finite difference:\\\n",
    "$\\frac{dR}{dt} \\approx \\frac{R(t+\\delta t) - R(t)}{\\delta t} \\approx  \\nu I$"
   ]
  },
  {
   "cell_type": "code",
   "execution_count": 6,
   "metadata": {},
   "outputs": [],
   "source": [
    "# total=[229, 322, 400, 650, 888, 1128, 1694, 2036, 2502, 3089, 3858, 4636, 5883, 7375, 9172, 10149, 12462, 15113, 17660, 21157, 24747, 27980, 31506, 35713, 41035, 47021, 53578, 59138, 63927, 69176, 74386, 80539, 86498, 92472, 97689];\n",
    "# death=[7, 10, 12, 17, 21, 29, 34, 52, 79, 107, 148, 197, 233, 366, 463, 631, 827, 1016, 1266, 1441, 1809, 2158, 2503, 2978, 3405, 4032, 4825, 5476, 6077, 6820, 7503, 8165, 9134, 10023, 10779]\n",
    "# recovered=[1, 1, 3, 45, 46, 50, 83, 149, 160, 276, 414, 523, 589, 622, 724, 1004, 1045, 1258, 1439, 1966, 2335, 2749, 2941, 4025, 4440, 5129, 6072, 7024, 7432, 8326, 9362, 10361, 10950, 12384, 13030]\n",
    "\n",
    "def nu_estimation(I,R):\n",
    "    nu_vec=[]\n",
    "    for i in range(1,len(R)):\n",
    "        if I[i]!=0:\n",
    "            nu_ = (R[i]-R[i-1])/I[i]\n",
    "            nu_vec.append(nu_)\n",
    "    nu = np.mean(nu_vec)\n",
    "    return nu\n",
    "\n",
    "def beta_nu_estimation(c,d,r):\n",
    "    R = np.array([x + y for x,y in zip(d, r)])\n",
    "    I = np.array([x - y for x,y in zip(c, R)])\n",
    "    \n",
    "    #drop data with null value of infected in I and equalize size in R\n",
    "    R=R[I!=0]\n",
    "    I=I[I!=0]\n",
    "    \n",
    "    y = np.log(I)\n",
    "    t = np.arange(0,len(y))\n",
    "    slope, intercept = np.polyfit(t,y,1) #the slope is beta- mu\n",
    "    \n",
    "    nu = nu_estimation(I,R)\n",
    "    beta = slope + nu\n",
    "    return beta, nu"
   ]
  },
  {
   "cell_type": "code",
   "execution_count": 20,
   "metadata": {},
   "outputs": [],
   "source": [
    "def parameters_country(country,lim_date=None):\n",
    "    c,d,r =retrieve_cdr(country,lim_date)\n",
    "    beta, nu = beta_nu_estimation(c,d,r)\n",
    "    print(\"*****\",country,\"*****\")\n",
    "    print(\"Beta: \", round(beta,3))\n",
    "    print(\"nu: \", round(nu,3))\n",
    "    if nu!=0:\n",
    "        print(\"Reproduction number: \", round(beta/nu,3))"
   ]
  },
  {
   "cell_type": "code",
   "execution_count": 8,
   "metadata": {},
   "outputs": [],
   "source": [
    "#calculate beta for every interval greater than i\n",
    "def get_max_beta_and_date(country):\n",
    "    i=50\n",
    "    betas = np.zeros(i)\n",
    "    nus = np.zeros(i)\n",
    "    for date in dates[i:]:\n",
    "        c,d,r =retrieve_cdr(country,date)\n",
    "        beta, nu = beta_nu_estimation(c,d,r)\n",
    "        betas = np.append(betas,beta)\n",
    "        nus = np.append(nus,nu)\n",
    "    return max(betas),dates[betas==(max(betas))][0]\n"
   ]
  },
  {
   "cell_type": "code",
   "execution_count": 9,
   "metadata": {},
   "outputs": [
    {
     "name": "stdout",
     "output_type": "stream",
     "text": [
      "The biggest value for beta was  0.238 reached in  3/27/20\n"
     ]
    }
   ],
   "source": [
    "beta_max, date_beta_max = get_max_beta_and_date(\"France\")\n",
    "print(\"The biggest value for beta was \", round(beta_max,3), \"reached in \", date_beta_max)"
   ]
  },
  {
   "cell_type": "code",
   "execution_count": 10,
   "metadata": {},
   "outputs": [
    {
     "name": "stdout",
     "output_type": "stream",
     "text": [
      "***** France *****\n",
      "Beta:  0.2384796805400518\n",
      "nu:  0.07728020963187082\n",
      "Reproduction number:  3.085908820331426\n"
     ]
    }
   ],
   "source": [
    "parameters_country(\"France\",lim_date='3/27/20')"
   ]
  },
  {
   "cell_type": "code",
   "execution_count": 11,
   "metadata": {},
   "outputs": [
    {
     "name": "stdout",
     "output_type": "stream",
     "text": [
      "***** France *****\n",
      "Beta:  0.22439674223646572\n",
      "nu:  0.06937829779000777\n",
      "Reproduction number:  3.234393886625228\n"
     ]
    }
   ],
   "source": [
    "parameters_country(\"France\",lim_date='4/15/20')"
   ]
  },
  {
   "cell_type": "code",
   "execution_count": 12,
   "metadata": {},
   "outputs": [
    {
     "name": "stdout",
     "output_type": "stream",
     "text": [
      "***** France *****\n",
      "Beta:  0.05490138890898649\n",
      "nu:  0.021268769164266368\n",
      "Reproduction number:  2.58131481351663\n",
      "***** Albania *****\n",
      "Beta:  0.056699508517962155\n",
      "nu:  0.03458406876968265\n",
      "Reproduction number:  1.6394689964202973\n",
      "***** Italy *****\n",
      "Beta:  0.04438494689814366\n",
      "nu:  0.02447065162011875\n",
      "Reproduction number:  1.8138032279308902\n",
      "***** Brazil *****\n",
      "Beta:  0.08798939949741721\n",
      "nu:  0.059008577065734785\n",
      "Reproduction number:  1.4911289828154672\n",
      "***** India *****\n",
      "Beta:  0.10340923852470807\n",
      "nu:  0.06406269704602899\n",
      "Reproduction number:  1.614188026620369\n",
      "***** United Kingdom *****\n",
      "Beta:  0.035419509614375\n",
      "nu:  0.00459879181998074\n",
      "Reproduction number:  7.701916286030825\n",
      "***** Russia *****\n",
      "Beta:  0.06415803808054422\n",
      "nu:  0.033297904874950275\n",
      "Reproduction number:  1.9267890373730319\n",
      "***** Germany *****\n",
      "Beta:  0.08521729141650777\n",
      "nu:  0.06349517744078255\n",
      "Reproduction number:  1.3421065166088229\n"
     ]
    }
   ],
   "source": [
    "parameters_country(\"France\")\n",
    "parameters_country(\"Albania\")\n",
    "parameters_country(\"Italy\")\n",
    "parameters_country(\"Brazil\")\n",
    "parameters_country(\"India\")\n",
    "parameters_country(\"United Kingdom\")\n",
    "parameters_country(\"Russia\")\n",
    "parameters_country(\"Germany\")"
   ]
  },
  {
   "cell_type": "markdown",
   "metadata": {},
   "source": [
    "### Some more exploration..."
   ]
  },
  {
   "cell_type": "code",
   "execution_count": 13,
   "metadata": {},
   "outputs": [
    {
     "name": "stdout",
     "output_type": "stream",
     "text": [
      "***** Brazil *****\n",
      "Beta:  0.23939759588082027\n",
      "nu:  0.024917921015045915\n",
      "Reproduction number:  9.60744661387551\n"
     ]
    }
   ],
   "source": [
    "parameters_country(\"Brazil\",lim_date='4/17/20')"
   ]
  },
  {
   "cell_type": "code",
   "execution_count": 14,
   "metadata": {},
   "outputs": [
    {
     "name": "stdout",
     "output_type": "stream",
     "text": [
      "The biggest value for beta was  0.314 reached in  3/22/20\n"
     ]
    }
   ],
   "source": [
    "beta_max, date_beta_max = get_max_beta_and_date(\"Brazil\")\n",
    "print(\"The biggest value for beta was \", round(beta_max,3), \"reached in \", date_beta_max)"
   ]
  },
  {
   "cell_type": "code",
   "execution_count": 15,
   "metadata": {},
   "outputs": [
    {
     "name": "stdout",
     "output_type": "stream",
     "text": [
      "***** Brazil *****\n",
      "Beta:  0.31430255038021265\n",
      "nu:  0.0015454235129512344\n",
      "Reproduction number:  203.37632224839226\n"
     ]
    }
   ],
   "source": [
    "parameters_country(\"Brazil\",lim_date='3/22/20')"
   ]
  },
  {
   "cell_type": "code",
   "execution_count": 21,
   "metadata": {},
   "outputs": [
    {
     "name": "stdout",
     "output_type": "stream",
     "text": [
      "***** Brazil *****\n",
      "Beta:  0.249\n",
      "nu:  0.025\n",
      "Reproduction number:  9.807\n",
      "***** France *****\n",
      "Beta:  0.224\n",
      "nu:  0.069\n",
      "Reproduction number:  3.234\n",
      "***** Germany *****\n",
      "Beta:  0.228\n",
      "nu:  0.067\n",
      "Reproduction number:  3.402\n"
     ]
    }
   ],
   "source": [
    "parameters_country(\"Brazil\",lim_date='4/15/20')\n",
    "parameters_country(\"France\",lim_date='4/15/20')\n",
    "parameters_country(\"Germany\",lim_date='4/15/20')"
   ]
  },
  {
   "cell_type": "code",
   "execution_count": 17,
   "metadata": {},
   "outputs": [
    {
     "name": "stdout",
     "output_type": "stream",
     "text": [
      "***** Germany *****\n",
      "Beta:  0.22756489337786034\n",
      "nu:  0.06689588231834465\n",
      "Reproduction number:  3.4017772916862468\n"
     ]
    }
   ],
   "source": [
    "parameters_country(\"Germany\",lim_date='4/15/20')"
   ]
  },
  {
   "cell_type": "code",
   "execution_count": 18,
   "metadata": {},
   "outputs": [],
   "source": [
    "#Brazil,France,Germany using data up to 4/15/20\n",
    "beta = [0.2492569240298655,0.22439674223646572,0.22756489337786034]\n",
    "nu=[0.02541707512339562,0.06937829779000777,0.06689588231834465]\n",
    "rep_num=[9.80667220047016,3.234393886625228, 3.4017772916862468]"
   ]
  },
  {
   "cell_type": "code",
   "execution_count": 19,
   "metadata": {},
   "outputs": [
    {
     "data": {
      "text/plain": [
       "<matplotlib.legend.Legend at 0x7fc133dd8460>"
      ]
     },
     "execution_count": 19,
     "metadata": {},
     "output_type": "execute_result"
    },
    {
     "data": {
      "image/png": "[encoded data removed]",
      "text/plain": [
       "<Figure size 432x288 with 1 Axes>"
      ]
     },
     "metadata": {
      "needs_background": "light"
     },
     "output_type": "display_data"
    }
   ],
   "source": [
    "import matplotlib.pyplot as plt\n",
    "import numpy as np\n",
    "from scipy.integrate import odeint\n",
    "import time\n",
    "\n",
    "tf = 200\n",
    "Nmax = 1000 ## to determine the step h\n",
    "I0 = 1000/(6.7*10**7)\n",
    "X0 = [1-I0, I0, 0] ## initial condition\n",
    "\n",
    "# mu = 0.02541707512339562\n",
    "# beta = 0.2492569240298655\n",
    "\n",
    "mu_br = 0.02541707512339562\n",
    "beta_br = 0.2492569240298655\n",
    "beta_fr = 0.22439674223646572\n",
    "mu_fr = 0.06937829779000777\n",
    "beta_gm = 0.22756489337786034\n",
    "mu_gm = 0.06689588231834465\n",
    "beta = beta_gm\n",
    "mu=mu_gm\n",
    "Sherd = mu/beta\n",
    "\n",
    "\n",
    "\n",
    "##ODE : x'(t) = f(x,t)\n",
    "def F(X,t):\n",
    "    s,i,r = X\n",
    "    return np.array([-beta*s*i, beta*s*i-mu*i,mu*i])\n",
    "\n",
    "\n",
    "\n",
    "#resolution\n",
    "\n",
    "\n",
    "def sir_Runge(X0,tf,N):\n",
    "    h = 1/N\n",
    "    Y = [X0]\n",
    "    y = X0\n",
    "    ymoins = X0\n",
    "    T = [0]\n",
    "    t = 0\n",
    "    for k in range(tf*N):\n",
    "        ymilieu =  y + (h/2)*F(y,t)\n",
    "        y = y +(h)*F(ymilieu,t + h/2)\n",
    "        t = t + h\n",
    "        Y.append(y)\n",
    "        T.append(t)\n",
    "\n",
    "    return T,Y\n",
    "\n",
    "\n",
    "\n",
    "Tmax,Ygood = sir_Runge(X0,tf, Nmax)\n",
    "\n",
    "S = [y[0] for y in Ygood]\n",
    "I = [y[1] for y in Ygood]\n",
    "plt.title('Germany SI curves using recovered parameters found with data up to 4/15/20')\n",
    "plt.plot(Tmax, S, label='S (Susceptible)')\n",
    "plt.plot(Tmax, I, label='I (Infected)')\n",
    "plt.legend()"
   ]
  },
  {
   "cell_type": "code",
   "execution_count": null,
   "metadata": {},
   "outputs": [],
   "source": []
  }
 ],
 "metadata": {
  "kernelspec": {
   "display_name": "Python 3",
   "language": "python",
   "name": "python3"
  },
  "language_info": {
   "codemirror_mode": {
    "name": "ipython",
    "version": 3
   },
   "file_extension": ".py",
   "mimetype": "text/x-python",
   "name": "python",
   "nbconvert_exporter": "python",
   "pygments_lexer": "ipython3",
   "version": "3.8.2"
  }
 },
 "nbformat": 4,
 "nbformat_minor": 4
}
